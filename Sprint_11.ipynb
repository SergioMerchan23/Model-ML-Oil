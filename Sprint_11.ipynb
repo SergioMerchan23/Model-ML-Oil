{
 "cells": [
  {
   "cell_type": "markdown",
   "metadata": {},
   "source": [
    "# Carga y verificacion de datos"
   ]
  },
  {
   "cell_type": "code",
   "execution_count": 2,
   "metadata": {},
   "outputs": [],
   "source": [
    "import pandas as pd\n",
    "from sklearn.linear_model import LinearRegression\n",
    "from sklearn.model_selection import train_test_split\n",
    "from sklearn.metrics import mean_squared_error\n",
    "import numpy as np"
   ]
  },
  {
   "cell_type": "code",
   "execution_count": 3,
   "metadata": {},
   "outputs": [],
   "source": [
    "zona_1 = pd.read_csv(\"geo_data_0.csv\")\n",
    "zona_2 = pd.read_csv(\"geo_data_1.csv\")\n",
    "zona_3 = pd.read_csv(\"geo_data_2.csv\")"
   ]
  },
  {
   "cell_type": "code",
   "execution_count": 4,
   "metadata": {
    "scrolled": true
   },
   "outputs": [
    {
     "name": "stdout",
     "output_type": "stream",
     "text": [
      "<class 'pandas.core.frame.DataFrame'>\n",
      "RangeIndex: 100000 entries, 0 to 99999\n",
      "Data columns (total 5 columns):\n",
      " #   Column   Non-Null Count   Dtype  \n",
      "---  ------   --------------   -----  \n",
      " 0   id       100000 non-null  object \n",
      " 1   f0       100000 non-null  float64\n",
      " 2   f1       100000 non-null  float64\n",
      " 3   f2       100000 non-null  float64\n",
      " 4   product  100000 non-null  float64\n",
      "dtypes: float64(4), object(1)\n",
      "memory usage: 3.8+ MB\n"
     ]
    }
   ],
   "source": [
    "zona_1.info()"
   ]
  },
  {
   "cell_type": "code",
   "execution_count": 5,
   "metadata": {},
   "outputs": [
    {
     "data": {
      "text/plain": [
       "np.int64(0)"
      ]
     },
     "execution_count": 5,
     "metadata": {},
     "output_type": "execute_result"
    }
   ],
   "source": [
    "zona_1.duplicated().sum()"
   ]
  },
  {
   "cell_type": "code",
   "execution_count": 6,
   "metadata": {},
   "outputs": [
    {
     "data": {
      "text/plain": [
       "id         0\n",
       "f0         0\n",
       "f1         0\n",
       "f2         0\n",
       "product    0\n",
       "dtype: int64"
      ]
     },
     "execution_count": 6,
     "metadata": {},
     "output_type": "execute_result"
    }
   ],
   "source": [
    "zona_1.isna().sum()"
   ]
  },
  {
   "cell_type": "code",
   "execution_count": 7,
   "metadata": {},
   "outputs": [
    {
     "data": {
      "text/html": [
       "<div>\n",
       "<style scoped>\n",
       "    .dataframe tbody tr th:only-of-type {\n",
       "        vertical-align: middle;\n",
       "    }\n",
       "\n",
       "    .dataframe tbody tr th {\n",
       "        vertical-align: top;\n",
       "    }\n",
       "\n",
       "    .dataframe thead th {\n",
       "        text-align: right;\n",
       "    }\n",
       "</style>\n",
       "<table border=\"1\" class=\"dataframe\">\n",
       "  <thead>\n",
       "    <tr style=\"text-align: right;\">\n",
       "      <th></th>\n",
       "      <th>id</th>\n",
       "      <th>f0</th>\n",
       "      <th>f1</th>\n",
       "      <th>f2</th>\n",
       "      <th>product</th>\n",
       "    </tr>\n",
       "  </thead>\n",
       "  <tbody>\n",
       "    <tr>\n",
       "      <th>0</th>\n",
       "      <td>txEyH</td>\n",
       "      <td>0.705745</td>\n",
       "      <td>-0.497823</td>\n",
       "      <td>1.221170</td>\n",
       "      <td>105.280062</td>\n",
       "    </tr>\n",
       "    <tr>\n",
       "      <th>1</th>\n",
       "      <td>2acmU</td>\n",
       "      <td>1.334711</td>\n",
       "      <td>-0.340164</td>\n",
       "      <td>4.365080</td>\n",
       "      <td>73.037750</td>\n",
       "    </tr>\n",
       "    <tr>\n",
       "      <th>2</th>\n",
       "      <td>409Wp</td>\n",
       "      <td>1.022732</td>\n",
       "      <td>0.151990</td>\n",
       "      <td>1.419926</td>\n",
       "      <td>85.265647</td>\n",
       "    </tr>\n",
       "    <tr>\n",
       "      <th>3</th>\n",
       "      <td>iJLyR</td>\n",
       "      <td>-0.032172</td>\n",
       "      <td>0.139033</td>\n",
       "      <td>2.978566</td>\n",
       "      <td>168.620776</td>\n",
       "    </tr>\n",
       "    <tr>\n",
       "      <th>4</th>\n",
       "      <td>Xdl7t</td>\n",
       "      <td>1.988431</td>\n",
       "      <td>0.155413</td>\n",
       "      <td>4.751769</td>\n",
       "      <td>154.036647</td>\n",
       "    </tr>\n",
       "  </tbody>\n",
       "</table>\n",
       "</div>"
      ],
      "text/plain": [
       "      id        f0        f1        f2     product\n",
       "0  txEyH  0.705745 -0.497823  1.221170  105.280062\n",
       "1  2acmU  1.334711 -0.340164  4.365080   73.037750\n",
       "2  409Wp  1.022732  0.151990  1.419926   85.265647\n",
       "3  iJLyR -0.032172  0.139033  2.978566  168.620776\n",
       "4  Xdl7t  1.988431  0.155413  4.751769  154.036647"
      ]
     },
     "execution_count": 7,
     "metadata": {},
     "output_type": "execute_result"
    }
   ],
   "source": [
    "zona_1.head()"
   ]
  },
  {
   "cell_type": "code",
   "execution_count": 8,
   "metadata": {},
   "outputs": [
    {
     "name": "stdout",
     "output_type": "stream",
     "text": [
      "<class 'pandas.core.frame.DataFrame'>\n",
      "RangeIndex: 100000 entries, 0 to 99999\n",
      "Data columns (total 5 columns):\n",
      " #   Column   Non-Null Count   Dtype  \n",
      "---  ------   --------------   -----  \n",
      " 0   id       100000 non-null  object \n",
      " 1   f0       100000 non-null  float64\n",
      " 2   f1       100000 non-null  float64\n",
      " 3   f2       100000 non-null  float64\n",
      " 4   product  100000 non-null  float64\n",
      "dtypes: float64(4), object(1)\n",
      "memory usage: 3.8+ MB\n"
     ]
    }
   ],
   "source": [
    "zona_2.info()"
   ]
  },
  {
   "cell_type": "code",
   "execution_count": 9,
   "metadata": {},
   "outputs": [
    {
     "data": {
      "text/plain": [
       "np.int64(0)"
      ]
     },
     "execution_count": 9,
     "metadata": {},
     "output_type": "execute_result"
    }
   ],
   "source": [
    "zona_2.duplicated().sum()"
   ]
  },
  {
   "cell_type": "code",
   "execution_count": 10,
   "metadata": {},
   "outputs": [
    {
     "data": {
      "text/plain": [
       "id         0\n",
       "f0         0\n",
       "f1         0\n",
       "f2         0\n",
       "product    0\n",
       "dtype: int64"
      ]
     },
     "execution_count": 10,
     "metadata": {},
     "output_type": "execute_result"
    }
   ],
   "source": [
    "zona_2.isna().sum()"
   ]
  },
  {
   "cell_type": "code",
   "execution_count": 11,
   "metadata": {},
   "outputs": [
    {
     "data": {
      "text/html": [
       "<div>\n",
       "<style scoped>\n",
       "    .dataframe tbody tr th:only-of-type {\n",
       "        vertical-align: middle;\n",
       "    }\n",
       "\n",
       "    .dataframe tbody tr th {\n",
       "        vertical-align: top;\n",
       "    }\n",
       "\n",
       "    .dataframe thead th {\n",
       "        text-align: right;\n",
       "    }\n",
       "</style>\n",
       "<table border=\"1\" class=\"dataframe\">\n",
       "  <thead>\n",
       "    <tr style=\"text-align: right;\">\n",
       "      <th></th>\n",
       "      <th>id</th>\n",
       "      <th>f0</th>\n",
       "      <th>f1</th>\n",
       "      <th>f2</th>\n",
       "      <th>product</th>\n",
       "    </tr>\n",
       "  </thead>\n",
       "  <tbody>\n",
       "    <tr>\n",
       "      <th>0</th>\n",
       "      <td>kBEdx</td>\n",
       "      <td>-15.001348</td>\n",
       "      <td>-8.276000</td>\n",
       "      <td>-0.005876</td>\n",
       "      <td>3.179103</td>\n",
       "    </tr>\n",
       "    <tr>\n",
       "      <th>1</th>\n",
       "      <td>62mP7</td>\n",
       "      <td>14.272088</td>\n",
       "      <td>-3.475083</td>\n",
       "      <td>0.999183</td>\n",
       "      <td>26.953261</td>\n",
       "    </tr>\n",
       "    <tr>\n",
       "      <th>2</th>\n",
       "      <td>vyE1P</td>\n",
       "      <td>6.263187</td>\n",
       "      <td>-5.948386</td>\n",
       "      <td>5.001160</td>\n",
       "      <td>134.766305</td>\n",
       "    </tr>\n",
       "    <tr>\n",
       "      <th>3</th>\n",
       "      <td>KcrkZ</td>\n",
       "      <td>-13.081196</td>\n",
       "      <td>-11.506057</td>\n",
       "      <td>4.999415</td>\n",
       "      <td>137.945408</td>\n",
       "    </tr>\n",
       "    <tr>\n",
       "      <th>4</th>\n",
       "      <td>AHL4O</td>\n",
       "      <td>12.702195</td>\n",
       "      <td>-8.147433</td>\n",
       "      <td>5.004363</td>\n",
       "      <td>134.766305</td>\n",
       "    </tr>\n",
       "  </tbody>\n",
       "</table>\n",
       "</div>"
      ],
      "text/plain": [
       "      id         f0         f1        f2     product\n",
       "0  kBEdx -15.001348  -8.276000 -0.005876    3.179103\n",
       "1  62mP7  14.272088  -3.475083  0.999183   26.953261\n",
       "2  vyE1P   6.263187  -5.948386  5.001160  134.766305\n",
       "3  KcrkZ -13.081196 -11.506057  4.999415  137.945408\n",
       "4  AHL4O  12.702195  -8.147433  5.004363  134.766305"
      ]
     },
     "execution_count": 11,
     "metadata": {},
     "output_type": "execute_result"
    }
   ],
   "source": [
    "zona_2.head()"
   ]
  },
  {
   "cell_type": "code",
   "execution_count": 12,
   "metadata": {},
   "outputs": [
    {
     "name": "stdout",
     "output_type": "stream",
     "text": [
      "<class 'pandas.core.frame.DataFrame'>\n",
      "RangeIndex: 100000 entries, 0 to 99999\n",
      "Data columns (total 5 columns):\n",
      " #   Column   Non-Null Count   Dtype  \n",
      "---  ------   --------------   -----  \n",
      " 0   id       100000 non-null  object \n",
      " 1   f0       100000 non-null  float64\n",
      " 2   f1       100000 non-null  float64\n",
      " 3   f2       100000 non-null  float64\n",
      " 4   product  100000 non-null  float64\n",
      "dtypes: float64(4), object(1)\n",
      "memory usage: 3.8+ MB\n"
     ]
    }
   ],
   "source": [
    "zona_3.info()"
   ]
  },
  {
   "cell_type": "code",
   "execution_count": 13,
   "metadata": {},
   "outputs": [
    {
     "data": {
      "text/plain": [
       "np.int64(0)"
      ]
     },
     "execution_count": 13,
     "metadata": {},
     "output_type": "execute_result"
    }
   ],
   "source": [
    "zona_3.duplicated().sum()"
   ]
  },
  {
   "cell_type": "code",
   "execution_count": 14,
   "metadata": {},
   "outputs": [
    {
     "data": {
      "text/plain": [
       "id         0\n",
       "f0         0\n",
       "f1         0\n",
       "f2         0\n",
       "product    0\n",
       "dtype: int64"
      ]
     },
     "execution_count": 14,
     "metadata": {},
     "output_type": "execute_result"
    }
   ],
   "source": [
    "zona_3.isna().sum()"
   ]
  },
  {
   "cell_type": "code",
   "execution_count": 15,
   "metadata": {},
   "outputs": [
    {
     "data": {
      "text/html": [
       "<div>\n",
       "<style scoped>\n",
       "    .dataframe tbody tr th:only-of-type {\n",
       "        vertical-align: middle;\n",
       "    }\n",
       "\n",
       "    .dataframe tbody tr th {\n",
       "        vertical-align: top;\n",
       "    }\n",
       "\n",
       "    .dataframe thead th {\n",
       "        text-align: right;\n",
       "    }\n",
       "</style>\n",
       "<table border=\"1\" class=\"dataframe\">\n",
       "  <thead>\n",
       "    <tr style=\"text-align: right;\">\n",
       "      <th></th>\n",
       "      <th>id</th>\n",
       "      <th>f0</th>\n",
       "      <th>f1</th>\n",
       "      <th>f2</th>\n",
       "      <th>product</th>\n",
       "    </tr>\n",
       "  </thead>\n",
       "  <tbody>\n",
       "    <tr>\n",
       "      <th>0</th>\n",
       "      <td>fwXo0</td>\n",
       "      <td>-1.146987</td>\n",
       "      <td>0.963328</td>\n",
       "      <td>-0.828965</td>\n",
       "      <td>27.758673</td>\n",
       "    </tr>\n",
       "    <tr>\n",
       "      <th>1</th>\n",
       "      <td>WJtFt</td>\n",
       "      <td>0.262778</td>\n",
       "      <td>0.269839</td>\n",
       "      <td>-2.530187</td>\n",
       "      <td>56.069697</td>\n",
       "    </tr>\n",
       "    <tr>\n",
       "      <th>2</th>\n",
       "      <td>ovLUW</td>\n",
       "      <td>0.194587</td>\n",
       "      <td>0.289035</td>\n",
       "      <td>-5.586433</td>\n",
       "      <td>62.871910</td>\n",
       "    </tr>\n",
       "    <tr>\n",
       "      <th>3</th>\n",
       "      <td>q6cA6</td>\n",
       "      <td>2.236060</td>\n",
       "      <td>-0.553760</td>\n",
       "      <td>0.930038</td>\n",
       "      <td>114.572842</td>\n",
       "    </tr>\n",
       "    <tr>\n",
       "      <th>4</th>\n",
       "      <td>WPMUX</td>\n",
       "      <td>-0.515993</td>\n",
       "      <td>1.716266</td>\n",
       "      <td>5.899011</td>\n",
       "      <td>149.600746</td>\n",
       "    </tr>\n",
       "  </tbody>\n",
       "</table>\n",
       "</div>"
      ],
      "text/plain": [
       "      id        f0        f1        f2     product\n",
       "0  fwXo0 -1.146987  0.963328 -0.828965   27.758673\n",
       "1  WJtFt  0.262778  0.269839 -2.530187   56.069697\n",
       "2  ovLUW  0.194587  0.289035 -5.586433   62.871910\n",
       "3  q6cA6  2.236060 -0.553760  0.930038  114.572842\n",
       "4  WPMUX -0.515993  1.716266  5.899011  149.600746"
      ]
     },
     "execution_count": 15,
     "metadata": {},
     "output_type": "execute_result"
    }
   ],
   "source": [
    "zona_3.head()"
   ]
  },
  {
   "cell_type": "markdown",
   "metadata": {},
   "source": [
    "Podemos ver que los datos de los tres datasets estan sin valores duplicados y sin datos ausentes por lo tanto podemos proceder a entrenar y probar el modelo que prediga el volumen de produccion de nuevos pozos en las tres regiones para identificar cual region es la mejor para realizar los 200 nuevos pozos"
   ]
  },
  {
   "cell_type": "markdown",
   "metadata": {},
   "source": [
    "# Entrenamiento y prueba de modelo Regresion Lineal"
   ]
  },
  {
   "cell_type": "markdown",
   "metadata": {},
   "source": [
    "Primero dividimos las columnas que nos brindan informacion para la creacion del modelo y las que no. Creamos una funcion para dividir los datos y entrenar el modelo, y asi obtener el RECM para observar que tan bien es el modelo para predecir y las predicciones de los modelos."
   ]
  },
  {
   "cell_type": "code",
   "execution_count": 16,
   "metadata": {},
   "outputs": [],
   "source": [
    "no_info_columns = ['id'] \n",
    "numeric_columns = ['f0','f1','f2','product']\n",
    "\n",
    "def info_select (data,columns):\n",
    "    zona_data_select = data.drop(columns,axis=1) #seleccionamos las columnas con datos relevantes para el modelo\n",
    "    data_target = zona_data_select['product'] #tomamos los datos objetivo\n",
    "    data_features = zona_data_select.drop('product', axis=1) #tomamos los datos caracteristicas \n",
    "    \n",
    "    # Dividir los datos en conjuntos de entrenamiento y validación\n",
    "    data_target_train, data_target_valid, data_features_train, data_features_valid = train_test_split(data_target, data_features, test_size=0.25, random_state=12345)\n",
    "\n",
    "    # entrenamiento y validacion del modelo\n",
    "    model = LinearRegression()\n",
    "    model.fit(data_features_train,data_target_train)\n",
    "    predictions_valid = model.predict(data_features_valid)\n",
    "\n",
    "    #hallamos la raiz del error cuadratico medio\n",
    "    result = mean_squared_error(data_target_valid,predictions_valid)**0.5 \n",
    "    return result , predictions_valid"
   ]
  },
  {
   "cell_type": "code",
   "execution_count": 17,
   "metadata": {
    "scrolled": true
   },
   "outputs": [],
   "source": [
    "#llamamos la funcion info_select y obtenemos: la raiz del error cuadratico medio y las predicciones el volumen de reservas en pozos nuevos\n",
    "result_1, predictions_valid_1 = info_select(zona_1,no_info_columns)\n",
    "result_2, predictions_valid_2, = info_select(zona_2,no_info_columns)\n",
    "result_3, predictions_valid_3, = info_select(zona_3,no_info_columns)"
   ]
  },
  {
   "cell_type": "code",
   "execution_count": 18,
   "metadata": {
    "scrolled": true
   },
   "outputs": [
    {
     "name": "stdout",
     "output_type": "stream",
     "text": [
      "RECM del modelo de regresión lineal en el conjunto de validación de la zona_1 es: 37.5794217150813\n",
      "RECM del modelo de regresión lineal en el conjunto de validación de la zona_2 es: 0.8930992867756165\n",
      "RECM del modelo de regresión lineal en el conjunto de validación de la zona_3 es 40.02970873393434\n"
     ]
    }
   ],
   "source": [
    "print(\"RECM del modelo de regresión lineal en el conjunto de validación de la zona_1 es:\", result_1)\n",
    "print(\"RECM del modelo de regresión lineal en el conjunto de validación de la zona_2 es:\", result_2)\n",
    "print(\"RECM del modelo de regresión lineal en el conjunto de validación de la zona_3 es\", result_3)"
   ]
  },
  {
   "cell_type": "markdown",
   "metadata": {},
   "source": [
    "Zona_1: 37.5794217150813: Este valor es bastante alto, lo que indica que el modelo de regresión no está prediciendo con mucha precisión en esta zona. Puede haber varios factores que contribuyan a esto, como características geológicas específicas de la zona que no están siendo capturadas por el modelo, o posibles errores en los datos.\n",
    "\n",
    "Zona_2: 0.8930992867756165: Este valor es muy bajo, lo que indica que el modelo de regresión está prediciendo con alta precisión en esta zona. Es probable que las características de los pozos en esta zona estén bien representadas por las variables del modelo.\n",
    "\n",
    "Zona_3: 40.02970873393434: Este valor es incluso más alto que el de la Zona 1, lo que sugiere una baja precisión en las predicciones del modelo para esta zona. Al igual que en la Zona 1, pueden haber factores específicos de esta zona que el modelo no está capturando adecuadamente."
   ]
  },
  {
   "cell_type": "markdown",
   "metadata": {},
   "source": [
    "# Preparacion del cálculo de ganancias"
   ]
  },
  {
   "cell_type": "markdown",
   "metadata": {},
   "source": [
    "Vamos a hallar la media de volumen predecido en cada region para ver si supera la media para no generar perdidas de 111.1 unidades (miles de barriles)"
   ]
  },
  {
   "cell_type": "code",
   "execution_count": 19,
   "metadata": {
    "scrolled": true
   },
   "outputs": [
    {
     "name": "stdout",
     "output_type": "stream",
     "text": [
      "El volumen medio de la region 1 es: 92.59256778438035\n",
      "El volumen medio de la region 2 es: 68.72854689544602\n",
      "El volumen medio de la region 3 es: 94.96504596800489\n"
     ]
    }
   ],
   "source": [
    "print(\"El volumen medio de la region 1 es:\", predictions_valid_1.mean())\n",
    "print(\"El volumen medio de la region 2 es:\", predictions_valid_2.mean())\n",
    "print(\"El volumen medio de la region 3 es:\", predictions_valid_3.mean())"
   ]
  },
  {
   "cell_type": "markdown",
   "metadata": {},
   "source": [
    "Desafortunadamente con las predicciones podemos ver que las medias no superan la media para no generar perdidas en ninguna de las tres regiones en las que el modelo realizo predicciones de volumenes posibles para futuros pozos\n",
    "\n",
    "Puede que con los 25000 datos predichos el volumen medio predecido no sea el que se pide de 111.1 unidades pero como se desea hacer una inversion de 100 millones por 200 pozos nuevos, vamos ha hacer un calculo de beneficios con los 200 pozos predichos que generan la mayor cantidad de unidades y ver si presentan beneficios despues de la inversion de 100 millones"
   ]
  },
  {
   "cell_type": "markdown",
   "metadata": {},
   "source": [
    "# Cálculo de ganancias"
   ]
  },
  {
   "cell_type": "code",
   "execution_count": 20,
   "metadata": {},
   "outputs": [],
   "source": [
    "# Creamos una funcion para calcular el posible beneficio neto de cada zona \n",
    "def profit(prediction):\n",
    "    predictions_valid = pd.Series(prediction).nlargest(200) #pasamos los datos de prediccion de array de numpy a Series de pandas para facilitar el procesarlos\n",
    "    net_profit = (predictions_valid * 4500).sum() - 100000000 #obtenemos el beneficio neto de cada zona al restarle la inversion de los pozos nuevos\n",
    "    return net_profit"
   ]
  },
  {
   "cell_type": "code",
   "execution_count": 21,
   "metadata": {},
   "outputs": [],
   "source": [
    "#LLamamos la funcion profit y hallamos los beneficios por zona de los 200 pozos con mayor volumen\n",
    "net_profit_1 = profit(predictions_valid_1)\n",
    "net_profit_2 = profit(predictions_valid_2)\n",
    "net_profit_3 = profit(predictions_valid_3)"
   ]
  },
  {
   "cell_type": "code",
   "execution_count": 22,
   "metadata": {},
   "outputs": [
    {
     "name": "stdout",
     "output_type": "stream",
     "text": [
      "La ganancia potencia para la zona de pozos numero 1 es: 39960488.77465123\n",
      "La ganancia potencia para la zona de pozos numero 2 es: 24857120.519735634\n",
      "La ganancia potencia para la zona de pozos numero 3 es: 33217543.962432623\n"
     ]
    }
   ],
   "source": [
    "print('La ganancia potencia para la zona de pozos numero 1 es:',net_profit_1)\n",
    "print('La ganancia potencia para la zona de pozos numero 2 es:',net_profit_2)\n",
    "print('La ganancia potencia para la zona de pozos numero 3 es:',net_profit_3)"
   ]
  },
  {
   "cell_type": "markdown",
   "metadata": {},
   "source": [
    "Como podemos ver las ganancias potenciales en cada region son las siguientes:\n",
    "\n",
    "zona 1 = 39'960.488 USd\n",
    "\n",
    "zona 2 = 24'857.120 USd\n",
    "\n",
    "zona 3 = 33'217.543 USd \n",
    "\n",
    "Esto muestra a un claro ganador que es la zona 1 pero las predicciones dadas por el modelo me dejan con la duda si este seria el mejor sector para realizar los 200 nuevos pozos, lo mismo ocurre con la zona 3 que es el segundo puesto en potenciales ganancias. Desafortunadamente la zona con la menor potencial ganancia es la zona 2 la cual el modelo de regresion lineal mostro predecir con mayor eficiencia. \n",
    "\n",
    "Como conclusion la empresa no tendria perdida en ninguna de las zonas segun los valores dados por las predicciones, incluso en el peor de los escenarios que es en la zona 2."
   ]
  },
  {
   "cell_type": "markdown",
   "metadata": {},
   "source": [
    "# Cálculo Riesgos y Ganancias por región"
   ]
  },
  {
   "cell_type": "code",
   "execution_count": 23,
   "metadata": {},
   "outputs": [],
   "source": [
    "def bootstrap_profit(prediction):\n",
    "    state = np.random.RandomState(12345)\n",
    "    values = []\n",
    "    samples = 1000\n",
    "    \n",
    "    for i in range(samples):\n",
    "        predictions = pd.Series(prediction) #pasamos los datos de prediccion de array de numpy a Series de pandas para facilitar el procesarlos\n",
    "        subsample = predictions.sample(n=500,random_state=state,replace=True) #sacamos submuestras de 500 posos de las predicciones herchas por el modelo\n",
    "        profit_200 = profit(subsample) #llamamos la funcion profit para obtener el beneficio de los 200 posos de mayor volumen de reserva predichos\n",
    "        values.append(profit_200) #agregamos dichos beneficios a una lista para crear una distribucion de beneficios\n",
    "    values = pd.Series(values) #convertimos la lista a una Serie para hallar el beneficio medio y otros datos de forma mas facil\n",
    "    values_mean = values.mean() #hallamos el beneficio medio\n",
    "    lower = values.quantile(0.025) #hallamos el minimo del intervalo de confianza o el beneficio minimo posible\n",
    "    upper = values.quantile(0.975) #hallamos el maximo del intervalo de confianza o el beneficio mas alto posible\n",
    "    loss_risk = (values < 0).mean() * 100 #halllamos el % de riego de perdida\n",
    "    return values_mean, lower, upper, loss_risk\n"
   ]
  },
  {
   "cell_type": "code",
   "execution_count": 24,
   "metadata": {
    "scrolled": true
   },
   "outputs": [],
   "source": [
    "values_mean_1, lower_1, upper_1, loss_risk_1 = bootstrap_profit(predictions_valid_1)\n",
    "values_mean_2, lower_2, upper_2, loss_risk_2 = bootstrap_profit(predictions_valid_2)\n",
    "values_mean_3, lower_3, upper_3, loss_risk_3 = bootstrap_profit(predictions_valid_3)"
   ]
  },
  {
   "cell_type": "code",
   "execution_count": 25,
   "metadata": {},
   "outputs": [
    {
     "name": "stdout",
     "output_type": "stream",
     "text": [
      "El beneficio medio de la zona 1 es: 3580260.542083398\n",
      "el valor minimo del intervalor de confianza de la zona 1 es: 1401373.3598106995\n",
      "el valor maximo del intervalor de confianza de la zona 1 es: 5988772.713793823\n",
      "el riesgo de perdiad de la zona 1 es: 0.1\n"
     ]
    }
   ],
   "source": [
    "print('El beneficio medio de la zona 1 es:',values_mean_1)\n",
    "print('el valor minimo del intervalor de confianza de la zona 1 es:',lower_1)\n",
    "print('el valor maximo del intervalor de confianza de la zona 1 es:',upper_1)\n",
    "print('el riesgo de perdiad de la zona 1 es:', loss_risk_1)"
   ]
  },
  {
   "cell_type": "code",
   "execution_count": 26,
   "metadata": {},
   "outputs": [
    {
     "name": "stdout",
     "output_type": "stream",
     "text": [
      "El beneficio medio de la zona 2 es: 4538116.099461428\n",
      "el valor minimo del intervalor de confianza de la zona 2 es: 328830.1962252781\n",
      "el valor maximo del intervalor de confianza de la zona 2 es: 8545616.852130715\n",
      "el riesgo de perdiad de la zona 2 es: 1.6\n"
     ]
    }
   ],
   "source": [
    "print('El beneficio medio de la zona 2 es:',values_mean_2)\n",
    "print('el valor minimo del intervalor de confianza de la zona 2 es:',lower_2)\n",
    "print('el valor maximo del intervalor de confianza de la zona 2 es:',upper_2)\n",
    "print('el riesgo de perdiad de la zona 2 es:', loss_risk_2)"
   ]
  },
  {
   "cell_type": "code",
   "execution_count": 27,
   "metadata": {},
   "outputs": [
    {
     "name": "stdout",
     "output_type": "stream",
     "text": [
      "El beneficio medio de la zona 3 es: 2814661.9794109385\n",
      "el valor minimo del intervalor de confianza de la zona 3 es: 920983.0189544179\n",
      "el valor maximo del intervalor de confianza de la zona 3 es: 4785270.324733741\n",
      "el riesgo de perdiad de la zona 3 es: 0.2\n"
     ]
    }
   ],
   "source": [
    "print('El beneficio medio de la zona 3 es:',values_mean_3)\n",
    "print('el valor minimo del intervalor de confianza de la zona 3 es:',lower_3)\n",
    "print('el valor maximo del intervalor de confianza de la zona 3 es:',upper_3)\n",
    "print('el riesgo de perdiad de la zona 3 es:', loss_risk_3)"
   ]
  },
  {
   "cell_type": "markdown",
   "metadata": {},
   "source": [
    "Como podemos ver en las tres zonas se presentan beneficios con los futuros 200 pozos, hay un riesgo de perdida mayor en la zona 2 con un 1,6% que podria asumirse aceptable ya que es la zona con mas beneficio pormedio de las 3 con 4'538.116 USD, esta zona la concidero la opcion mas viable no solo por los resultados de beneficios y riesgo aceptable, sino que tambien el modelo tubo muy bajo RECM lo que me dice que el modelo tiene muy buenas predicciones con respecto a los datos que nos otorgaron inicialmente. Las otras dos zonas a pesar de tener un riesgo muy bajo tienen menos beneficios y tambien tienen un RECM mayor lo que no me dejaria tomar una decision muy acertada del modelo. "
   ]
  }
 ],
 "metadata": {
  "ExecuteTimeLog": [
   {
    "duration": 287,
    "start_time": "2025-03-04T23:58:54.570Z"
   },
   {
    "duration": 514,
    "start_time": "2025-03-05T00:00:01.855Z"
   },
   {
    "duration": 101,
    "start_time": "2025-03-05T00:01:09.212Z"
   },
   {
    "duration": 219,
    "start_time": "2025-03-05T00:02:29.250Z"
   },
   {
    "duration": 249,
    "start_time": "2025-03-05T00:02:35.745Z"
   },
   {
    "duration": 11,
    "start_time": "2025-03-05T00:03:03.546Z"
   },
   {
    "duration": 8,
    "start_time": "2025-03-05T00:22:16.639Z"
   },
   {
    "duration": 12,
    "start_time": "2025-03-05T00:22:24.196Z"
   },
   {
    "duration": 11,
    "start_time": "2025-03-05T00:22:36.527Z"
   },
   {
    "duration": 12,
    "start_time": "2025-03-05T00:22:47.467Z"
   },
   {
    "duration": 3,
    "start_time": "2025-03-05T00:30:17.054Z"
   },
   {
    "duration": 7,
    "start_time": "2025-03-05T00:30:34.946Z"
   },
   {
    "duration": 10,
    "start_time": "2025-03-05T00:31:37.333Z"
   },
   {
    "duration": 7,
    "start_time": "2025-03-05T00:31:59.445Z"
   },
   {
    "duration": 8,
    "start_time": "2025-03-05T02:09:14.670Z"
   },
   {
    "duration": 34,
    "start_time": "2025-03-05T02:09:41.959Z"
   },
   {
    "duration": 8,
    "start_time": "2025-03-05T02:10:09.114Z"
   },
   {
    "duration": 27,
    "start_time": "2025-03-05T02:10:32.731Z"
   },
   {
    "duration": 9,
    "start_time": "2025-03-05T02:10:43.921Z"
   },
   {
    "duration": 8,
    "start_time": "2025-03-05T02:11:37.637Z"
   },
   {
    "duration": 30,
    "start_time": "2025-03-05T02:11:51.466Z"
   },
   {
    "duration": 10,
    "start_time": "2025-03-05T02:12:04.352Z"
   },
   {
    "duration": 491,
    "start_time": "2025-03-05T02:24:14.378Z"
   },
   {
    "duration": 161,
    "start_time": "2025-03-05T17:02:26.204Z"
   },
   {
    "duration": 2,
    "start_time": "2025-03-05T17:02:35.858Z"
   },
   {
    "duration": 3,
    "start_time": "2025-03-05T17:15:05.437Z"
   },
   {
    "duration": 12,
    "start_time": "2025-03-05T17:25:14.640Z"
   },
   {
    "duration": 818,
    "start_time": "2025-03-05T17:25:37.609Z"
   },
   {
    "duration": 294,
    "start_time": "2025-03-05T17:25:38.430Z"
   },
   {
    "duration": 14,
    "start_time": "2025-03-05T17:25:38.725Z"
   },
   {
    "duration": 33,
    "start_time": "2025-03-05T17:25:38.740Z"
   },
   {
    "duration": 16,
    "start_time": "2025-03-05T17:25:38.776Z"
   },
   {
    "duration": 9,
    "start_time": "2025-03-05T17:25:38.794Z"
   },
   {
    "duration": 10,
    "start_time": "2025-03-05T17:25:38.805Z"
   },
   {
    "duration": 29,
    "start_time": "2025-03-05T17:25:38.818Z"
   },
   {
    "duration": 8,
    "start_time": "2025-03-05T17:25:38.849Z"
   },
   {
    "duration": 8,
    "start_time": "2025-03-05T17:25:38.886Z"
   },
   {
    "duration": 10,
    "start_time": "2025-03-05T17:25:38.896Z"
   },
   {
    "duration": 32,
    "start_time": "2025-03-05T17:25:38.908Z"
   },
   {
    "duration": 7,
    "start_time": "2025-03-05T17:25:38.942Z"
   },
   {
    "duration": 35,
    "start_time": "2025-03-05T17:25:38.952Z"
   },
   {
    "duration": 2,
    "start_time": "2025-03-05T17:25:38.990Z"
   },
   {
    "duration": 3,
    "start_time": "2025-03-05T17:25:38.994Z"
   },
   {
    "duration": 235,
    "start_time": "2025-03-05T17:25:38.998Z"
   },
   {
    "duration": 2,
    "start_time": "2025-03-05T17:30:41.699Z"
   },
   {
    "duration": 711,
    "start_time": "2025-03-05T17:30:42.678Z"
   },
   {
    "duration": 2,
    "start_time": "2025-03-05T17:32:14.813Z"
   },
   {
    "duration": 11,
    "start_time": "2025-03-05T17:32:16.232Z"
   },
   {
    "duration": 14,
    "start_time": "2025-03-05T17:33:17.672Z"
   },
   {
    "duration": 17,
    "start_time": "2025-03-05T17:33:37.087Z"
   },
   {
    "duration": 12,
    "start_time": "2025-03-05T17:35:01.376Z"
   },
   {
    "duration": 14,
    "start_time": "2025-03-05T17:37:38.848Z"
   },
   {
    "duration": 3,
    "start_time": "2025-03-05T19:24:18.981Z"
   },
   {
    "duration": 6,
    "start_time": "2025-03-05T19:24:19.719Z"
   },
   {
    "duration": 9,
    "start_time": "2025-03-05T19:24:28.761Z"
   },
   {
    "duration": 2,
    "start_time": "2025-03-05T20:45:49.703Z"
   },
   {
    "duration": 3,
    "start_time": "2025-03-05T20:45:51.783Z"
   },
   {
    "duration": 23,
    "start_time": "2025-03-05T20:45:53.052Z"
   },
   {
    "duration": 3,
    "start_time": "2025-03-05T20:46:17.113Z"
   },
   {
    "duration": 48,
    "start_time": "2025-03-05T20:46:17.759Z"
   },
   {
    "duration": 8,
    "start_time": "2025-03-05T20:46:41.031Z"
   },
   {
    "duration": 3,
    "start_time": "2025-03-05T20:47:10.298Z"
   },
   {
    "duration": 24,
    "start_time": "2025-03-05T20:47:10.975Z"
   },
   {
    "duration": 3,
    "start_time": "2025-03-05T20:48:39.324Z"
   },
   {
    "duration": 17,
    "start_time": "2025-03-05T20:48:40.609Z"
   },
   {
    "duration": 3,
    "start_time": "2025-03-05T20:50:18.116Z"
   },
   {
    "duration": 3,
    "start_time": "2025-03-05T20:50:35.505Z"
   },
   {
    "duration": 9,
    "start_time": "2025-03-05T20:50:38.576Z"
   },
   {
    "duration": 5,
    "start_time": "2025-03-05T21:19:26.183Z"
   },
   {
    "duration": 4,
    "start_time": "2025-03-05T21:19:34.036Z"
   },
   {
    "duration": 13,
    "start_time": "2025-03-05T21:19:45.300Z"
   },
   {
    "duration": 803,
    "start_time": "2025-03-05T21:20:23.935Z"
   },
   {
    "duration": 240,
    "start_time": "2025-03-05T21:20:24.740Z"
   },
   {
    "duration": 14,
    "start_time": "2025-03-05T21:20:24.982Z"
   },
   {
    "duration": 39,
    "start_time": "2025-03-05T21:20:24.998Z"
   },
   {
    "duration": 8,
    "start_time": "2025-03-05T21:20:25.040Z"
   },
   {
    "duration": 37,
    "start_time": "2025-03-05T21:20:25.050Z"
   },
   {
    "duration": 14,
    "start_time": "2025-03-05T21:20:25.089Z"
   },
   {
    "duration": 33,
    "start_time": "2025-03-05T21:20:25.105Z"
   },
   {
    "duration": 10,
    "start_time": "2025-03-05T21:20:25.140Z"
   },
   {
    "duration": 35,
    "start_time": "2025-03-05T21:20:25.152Z"
   },
   {
    "duration": 15,
    "start_time": "2025-03-05T21:20:25.189Z"
   },
   {
    "duration": 39,
    "start_time": "2025-03-05T21:20:25.206Z"
   },
   {
    "duration": 9,
    "start_time": "2025-03-05T21:20:25.246Z"
   },
   {
    "duration": 33,
    "start_time": "2025-03-05T21:20:25.259Z"
   },
   {
    "duration": 3,
    "start_time": "2025-03-05T21:20:25.294Z"
   },
   {
    "duration": 4,
    "start_time": "2025-03-05T21:20:25.298Z"
   },
   {
    "duration": 5,
    "start_time": "2025-03-05T21:20:25.303Z"
   },
   {
    "duration": 10,
    "start_time": "2025-03-05T21:20:25.310Z"
   },
   {
    "duration": 3,
    "start_time": "2025-03-05T21:20:25.322Z"
   },
   {
    "duration": 254,
    "start_time": "2025-03-05T21:20:25.327Z"
   },
   {
    "duration": 14,
    "start_time": "2025-03-05T21:20:40.119Z"
   },
   {
    "duration": 15,
    "start_time": "2025-03-05T21:20:53.291Z"
   },
   {
    "duration": 6,
    "start_time": "2025-03-05T21:21:03.520Z"
   },
   {
    "duration": 3,
    "start_time": "2025-03-05T21:21:08.766Z"
   },
   {
    "duration": 13,
    "start_time": "2025-03-05T21:21:10.261Z"
   },
   {
    "duration": 13,
    "start_time": "2025-03-05T21:21:46.002Z"
   },
   {
    "duration": 20,
    "start_time": "2025-03-05T21:24:13.744Z"
   },
   {
    "duration": 12,
    "start_time": "2025-03-05T21:24:27.366Z"
   },
   {
    "duration": 5,
    "start_time": "2025-03-05T21:24:35.376Z"
   },
   {
    "duration": 13,
    "start_time": "2025-03-05T21:25:09.889Z"
   },
   {
    "duration": 4,
    "start_time": "2025-03-05T21:25:13.404Z"
   },
   {
    "duration": 4,
    "start_time": "2025-03-05T21:25:16.436Z"
   },
   {
    "duration": 3,
    "start_time": "2025-03-05T21:45:10.475Z"
   },
   {
    "duration": 4,
    "start_time": "2025-03-05T21:45:11.266Z"
   },
   {
    "duration": 2,
    "start_time": "2025-03-05T21:45:11.863Z"
   },
   {
    "duration": 14,
    "start_time": "2025-03-05T21:45:31.326Z"
   },
   {
    "duration": 12,
    "start_time": "2025-03-05T21:45:38.639Z"
   },
   {
    "duration": 5,
    "start_time": "2025-03-05T21:46:31.751Z"
   },
   {
    "duration": 14,
    "start_time": "2025-03-05T21:46:42.009Z"
   },
   {
    "duration": 3,
    "start_time": "2025-03-05T21:49:38.193Z"
   },
   {
    "duration": 4,
    "start_time": "2025-03-05T21:49:39.159Z"
   },
   {
    "duration": 8,
    "start_time": "2025-03-05T21:49:39.846Z"
   },
   {
    "duration": 4,
    "start_time": "2025-03-05T21:50:26.447Z"
   },
   {
    "duration": 4,
    "start_time": "2025-03-05T21:50:28.953Z"
   },
   {
    "duration": 5,
    "start_time": "2025-03-05T21:50:29.642Z"
   },
   {
    "duration": 3,
    "start_time": "2025-03-05T21:50:52.031Z"
   },
   {
    "duration": 4,
    "start_time": "2025-03-05T21:50:52.574Z"
   },
   {
    "duration": 4,
    "start_time": "2025-03-05T21:50:53.289Z"
   },
   {
    "duration": 790,
    "start_time": "2025-03-05T21:51:08.307Z"
   },
   {
    "duration": 232,
    "start_time": "2025-03-05T21:51:09.099Z"
   },
   {
    "duration": 13,
    "start_time": "2025-03-05T21:51:09.333Z"
   },
   {
    "duration": 48,
    "start_time": "2025-03-05T21:51:09.349Z"
   },
   {
    "duration": 9,
    "start_time": "2025-03-05T21:51:09.399Z"
   },
   {
    "duration": 9,
    "start_time": "2025-03-05T21:51:09.410Z"
   },
   {
    "duration": 16,
    "start_time": "2025-03-05T21:51:09.421Z"
   },
   {
    "duration": 72,
    "start_time": "2025-03-05T21:51:09.439Z"
   },
   {
    "duration": 8,
    "start_time": "2025-03-05T21:51:09.513Z"
   },
   {
    "duration": 6,
    "start_time": "2025-03-05T21:51:09.525Z"
   },
   {
    "duration": 11,
    "start_time": "2025-03-05T21:51:09.533Z"
   },
   {
    "duration": 56,
    "start_time": "2025-03-05T21:51:09.546Z"
   },
   {
    "duration": 8,
    "start_time": "2025-03-05T21:51:09.605Z"
   },
   {
    "duration": 7,
    "start_time": "2025-03-05T21:51:09.614Z"
   },
   {
    "duration": 2,
    "start_time": "2025-03-05T21:51:09.623Z"
   },
   {
    "duration": 4,
    "start_time": "2025-03-05T21:51:09.627Z"
   },
   {
    "duration": 5,
    "start_time": "2025-03-05T21:51:09.632Z"
   },
   {
    "duration": 10,
    "start_time": "2025-03-05T21:51:09.639Z"
   },
   {
    "duration": 3,
    "start_time": "2025-03-05T21:51:09.650Z"
   },
   {
    "duration": 216,
    "start_time": "2025-03-05T21:51:09.687Z"
   },
   {
    "duration": 0,
    "start_time": "2025-03-05T21:51:09.904Z"
   },
   {
    "duration": 14,
    "start_time": "2025-03-05T21:53:43.018Z"
   },
   {
    "duration": 18,
    "start_time": "2025-03-05T21:54:41.177Z"
   },
   {
    "duration": 15,
    "start_time": "2025-03-05T21:54:47.144Z"
   },
   {
    "duration": 13,
    "start_time": "2025-03-05T21:54:59.439Z"
   },
   {
    "duration": 13,
    "start_time": "2025-03-05T21:57:24.830Z"
   },
   {
    "duration": 4,
    "start_time": "2025-03-05T21:57:25.742Z"
   },
   {
    "duration": 762,
    "start_time": "2025-03-05T21:58:04.047Z"
   },
   {
    "duration": 220,
    "start_time": "2025-03-05T21:58:04.811Z"
   },
   {
    "duration": 12,
    "start_time": "2025-03-05T21:58:05.033Z"
   },
   {
    "duration": 42,
    "start_time": "2025-03-05T21:58:05.047Z"
   },
   {
    "duration": 7,
    "start_time": "2025-03-05T21:58:05.092Z"
   },
   {
    "duration": 10,
    "start_time": "2025-03-05T21:58:05.101Z"
   },
   {
    "duration": 10,
    "start_time": "2025-03-05T21:58:05.113Z"
   },
   {
    "duration": 30,
    "start_time": "2025-03-05T21:58:05.124Z"
   },
   {
    "duration": 37,
    "start_time": "2025-03-05T21:58:05.155Z"
   },
   {
    "duration": 7,
    "start_time": "2025-03-05T21:58:05.193Z"
   },
   {
    "duration": 11,
    "start_time": "2025-03-05T21:58:05.202Z"
   },
   {
    "duration": 31,
    "start_time": "2025-03-05T21:58:05.214Z"
   },
   {
    "duration": 8,
    "start_time": "2025-03-05T21:58:05.246Z"
   },
   {
    "duration": 34,
    "start_time": "2025-03-05T21:58:05.257Z"
   },
   {
    "duration": 2,
    "start_time": "2025-03-05T21:58:05.293Z"
   },
   {
    "duration": 3,
    "start_time": "2025-03-05T21:58:05.297Z"
   },
   {
    "duration": 5,
    "start_time": "2025-03-05T21:58:05.302Z"
   },
   {
    "duration": 10,
    "start_time": "2025-03-05T21:58:05.308Z"
   },
   {
    "duration": 3,
    "start_time": "2025-03-05T21:58:05.319Z"
   },
   {
    "duration": 241,
    "start_time": "2025-03-05T21:58:05.324Z"
   },
   {
    "duration": 0,
    "start_time": "2025-03-05T21:58:05.567Z"
   },
   {
    "duration": 3,
    "start_time": "2025-03-05T21:58:19.010Z"
   },
   {
    "duration": 11,
    "start_time": "2025-03-05T21:58:19.525Z"
   },
   {
    "duration": 4,
    "start_time": "2025-03-05T21:58:20.357Z"
   },
   {
    "duration": 4,
    "start_time": "2025-03-05T21:58:39.702Z"
   },
   {
    "duration": 3,
    "start_time": "2025-03-05T21:59:04.155Z"
   },
   {
    "duration": 3,
    "start_time": "2025-03-05T21:59:31.415Z"
   },
   {
    "duration": 11,
    "start_time": "2025-03-05T21:59:32.066Z"
   },
   {
    "duration": 3,
    "start_time": "2025-03-05T21:59:32.619Z"
   },
   {
    "duration": 4,
    "start_time": "2025-03-05T21:59:33.192Z"
   },
   {
    "duration": 752,
    "start_time": "2025-03-05T22:01:45.556Z"
   },
   {
    "duration": 235,
    "start_time": "2025-03-05T22:01:46.310Z"
   },
   {
    "duration": 13,
    "start_time": "2025-03-05T22:01:46.546Z"
   },
   {
    "duration": 43,
    "start_time": "2025-03-05T22:01:46.561Z"
   },
   {
    "duration": 8,
    "start_time": "2025-03-05T22:01:46.607Z"
   },
   {
    "duration": 9,
    "start_time": "2025-03-05T22:01:46.617Z"
   },
   {
    "duration": 10,
    "start_time": "2025-03-05T22:01:46.628Z"
   },
   {
    "duration": 55,
    "start_time": "2025-03-05T22:01:46.640Z"
   },
   {
    "duration": 8,
    "start_time": "2025-03-05T22:01:46.697Z"
   },
   {
    "duration": 7,
    "start_time": "2025-03-05T22:01:46.708Z"
   },
   {
    "duration": 12,
    "start_time": "2025-03-05T22:01:46.717Z"
   },
   {
    "duration": 61,
    "start_time": "2025-03-05T22:01:46.731Z"
   },
   {
    "duration": 8,
    "start_time": "2025-03-05T22:01:46.794Z"
   },
   {
    "duration": 7,
    "start_time": "2025-03-05T22:01:46.805Z"
   },
   {
    "duration": 2,
    "start_time": "2025-03-05T22:01:46.814Z"
   },
   {
    "duration": 4,
    "start_time": "2025-03-05T22:01:46.818Z"
   },
   {
    "duration": 5,
    "start_time": "2025-03-05T22:01:46.823Z"
   },
   {
    "duration": 8,
    "start_time": "2025-03-05T22:01:46.830Z"
   },
   {
    "duration": 4,
    "start_time": "2025-03-05T22:01:46.840Z"
   },
   {
    "duration": 49,
    "start_time": "2025-03-05T22:01:46.846Z"
   },
   {
    "duration": 5,
    "start_time": "2025-03-05T22:01:46.897Z"
   },
   {
    "duration": 4,
    "start_time": "2025-03-05T22:01:46.903Z"
   },
   {
    "duration": 220,
    "start_time": "2025-03-05T22:02:27.800Z"
   },
   {
    "duration": 3,
    "start_time": "2025-03-05T22:02:40.864Z"
   },
   {
    "duration": 3,
    "start_time": "2025-03-05T22:02:56.894Z"
   },
   {
    "duration": 3,
    "start_time": "2025-03-05T22:23:48.998Z"
   },
   {
    "duration": 20,
    "start_time": "2025-03-05T22:25:14.127Z"
   },
   {
    "duration": 752,
    "start_time": "2025-03-05T22:25:23.153Z"
   },
   {
    "duration": 222,
    "start_time": "2025-03-05T22:25:23.908Z"
   },
   {
    "duration": 12,
    "start_time": "2025-03-05T22:25:24.132Z"
   },
   {
    "duration": 42,
    "start_time": "2025-03-05T22:25:24.146Z"
   },
   {
    "duration": 8,
    "start_time": "2025-03-05T22:25:24.190Z"
   },
   {
    "duration": 9,
    "start_time": "2025-03-05T22:25:24.200Z"
   },
   {
    "duration": 10,
    "start_time": "2025-03-05T22:25:24.210Z"
   },
   {
    "duration": 30,
    "start_time": "2025-03-05T22:25:24.222Z"
   },
   {
    "duration": 38,
    "start_time": "2025-03-05T22:25:24.253Z"
   },
   {
    "duration": 7,
    "start_time": "2025-03-05T22:25:24.292Z"
   },
   {
    "duration": 11,
    "start_time": "2025-03-05T22:25:24.301Z"
   },
   {
    "duration": 38,
    "start_time": "2025-03-05T22:25:24.314Z"
   },
   {
    "duration": 36,
    "start_time": "2025-03-05T22:25:24.354Z"
   },
   {
    "duration": 8,
    "start_time": "2025-03-05T22:25:24.394Z"
   },
   {
    "duration": 3,
    "start_time": "2025-03-05T22:25:24.403Z"
   },
   {
    "duration": 3,
    "start_time": "2025-03-05T22:25:24.408Z"
   },
   {
    "duration": 5,
    "start_time": "2025-03-05T22:25:24.412Z"
   },
   {
    "duration": 9,
    "start_time": "2025-03-05T22:25:24.419Z"
   },
   {
    "duration": 4,
    "start_time": "2025-03-05T22:25:24.430Z"
   },
   {
    "duration": 10,
    "start_time": "2025-03-05T22:25:24.435Z"
   },
   {
    "duration": 3,
    "start_time": "2025-03-05T22:25:24.447Z"
   },
   {
    "duration": 4,
    "start_time": "2025-03-05T22:25:24.487Z"
   },
   {
    "duration": 4,
    "start_time": "2025-03-05T22:25:24.492Z"
   },
   {
    "duration": 4,
    "start_time": "2025-03-05T22:25:24.497Z"
   },
   {
    "duration": 4,
    "start_time": "2025-03-05T22:25:24.502Z"
   },
   {
    "duration": 542,
    "start_time": "2025-03-05T22:25:24.507Z"
   },
   {
    "duration": 14,
    "start_time": "2025-03-05T22:31:14.542Z"
   },
   {
    "duration": 3,
    "start_time": "2025-03-05T22:31:18.321Z"
   },
   {
    "duration": 13,
    "start_time": "2025-03-05T22:31:18.854Z"
   },
   {
    "duration": 7,
    "start_time": "2025-03-05T22:31:36.563Z"
   },
   {
    "duration": 7,
    "start_time": "2025-03-05T22:32:55.794Z"
   },
   {
    "duration": 4,
    "start_time": "2025-03-05T22:33:36.681Z"
   },
   {
    "duration": 3,
    "start_time": "2025-03-05T22:33:48.842Z"
   },
   {
    "duration": 3,
    "start_time": "2025-03-06T01:05:19.298Z"
   },
   {
    "duration": 16,
    "start_time": "2025-03-06T01:07:13.258Z"
   },
   {
    "duration": 2,
    "start_time": "2025-03-06T01:07:51.802Z"
   },
   {
    "duration": 10,
    "start_time": "2025-03-06T01:07:52.759Z"
   },
   {
    "duration": 12,
    "start_time": "2025-03-06T01:08:07.773Z"
   },
   {
    "duration": 4,
    "start_time": "2025-03-06T01:08:23.580Z"
   },
   {
    "duration": 3,
    "start_time": "2025-03-06T01:10:00.283Z"
   },
   {
    "duration": 3,
    "start_time": "2025-03-06T01:10:12.378Z"
   },
   {
    "duration": 177,
    "start_time": "2025-03-06T17:22:35.713Z"
   },
   {
    "duration": 732,
    "start_time": "2025-03-06T17:22:46.726Z"
   },
   {
    "duration": 298,
    "start_time": "2025-03-06T17:22:47.462Z"
   },
   {
    "duration": 13,
    "start_time": "2025-03-06T17:22:47.762Z"
   },
   {
    "duration": 34,
    "start_time": "2025-03-06T17:22:47.777Z"
   },
   {
    "duration": 8,
    "start_time": "2025-03-06T17:22:47.813Z"
   },
   {
    "duration": 4,
    "start_time": "2025-03-06T17:22:47.842Z"
   },
   {
    "duration": 8,
    "start_time": "2025-03-06T17:22:47.848Z"
   },
   {
    "duration": 11,
    "start_time": "2025-03-06T17:22:47.858Z"
   },
   {
    "duration": 33,
    "start_time": "2025-03-06T17:22:47.871Z"
   },
   {
    "duration": 37,
    "start_time": "2025-03-06T17:22:47.906Z"
   },
   {
    "duration": 7,
    "start_time": "2025-03-06T17:22:47.945Z"
   },
   {
    "duration": 11,
    "start_time": "2025-03-06T17:22:47.953Z"
   },
   {
    "duration": 32,
    "start_time": "2025-03-06T17:22:47.966Z"
   },
   {
    "duration": 7,
    "start_time": "2025-03-06T17:22:48.002Z"
   },
   {
    "duration": 38,
    "start_time": "2025-03-06T17:22:48.011Z"
   },
   {
    "duration": 3,
    "start_time": "2025-03-06T17:22:48.050Z"
   },
   {
    "duration": 4,
    "start_time": "2025-03-06T17:22:48.054Z"
   },
   {
    "duration": 5,
    "start_time": "2025-03-06T17:22:48.059Z"
   },
   {
    "duration": 9,
    "start_time": "2025-03-06T17:22:48.066Z"
   },
   {
    "duration": 4,
    "start_time": "2025-03-06T17:22:48.076Z"
   },
   {
    "duration": 9,
    "start_time": "2025-03-06T17:22:48.082Z"
   },
   {
    "duration": 3,
    "start_time": "2025-03-06T17:22:48.093Z"
   },
   {
    "duration": 3,
    "start_time": "2025-03-06T17:22:48.098Z"
   },
   {
    "duration": 42,
    "start_time": "2025-03-06T17:22:48.103Z"
   },
   {
    "duration": 4,
    "start_time": "2025-03-06T17:22:48.147Z"
   },
   {
    "duration": 3,
    "start_time": "2025-03-06T17:22:48.152Z"
   },
   {
    "duration": 14,
    "start_time": "2025-03-06T17:22:48.157Z"
   },
   {
    "duration": 4,
    "start_time": "2025-03-06T17:22:48.173Z"
   },
   {
    "duration": 64,
    "start_time": "2025-03-06T17:22:48.178Z"
   },
   {
    "duration": 3,
    "start_time": "2025-03-06T17:22:48.244Z"
   },
   {
    "duration": 4,
    "start_time": "2025-03-06T17:23:25.009Z"
   },
   {
    "duration": 4,
    "start_time": "2025-03-06T17:23:59.104Z"
   },
   {
    "duration": 3,
    "start_time": "2025-03-06T17:23:59.753Z"
   },
   {
    "duration": 798,
    "start_time": "2025-03-07T22:07:19.351Z"
   },
   {
    "duration": 281,
    "start_time": "2025-03-07T22:07:20.151Z"
   },
   {
    "duration": 15,
    "start_time": "2025-03-07T22:07:20.434Z"
   },
   {
    "duration": 35,
    "start_time": "2025-03-07T22:07:20.450Z"
   },
   {
    "duration": 23,
    "start_time": "2025-03-07T22:07:20.487Z"
   },
   {
    "duration": 10,
    "start_time": "2025-03-07T22:07:20.512Z"
   },
   {
    "duration": 13,
    "start_time": "2025-03-07T22:07:20.523Z"
   },
   {
    "duration": 37,
    "start_time": "2025-03-07T22:07:20.538Z"
   },
   {
    "duration": 36,
    "start_time": "2025-03-07T22:07:20.577Z"
   },
   {
    "duration": 8,
    "start_time": "2025-03-07T22:07:20.614Z"
   },
   {
    "duration": 14,
    "start_time": "2025-03-07T22:07:20.624Z"
   },
   {
    "duration": 34,
    "start_time": "2025-03-07T22:07:20.640Z"
   },
   {
    "duration": 37,
    "start_time": "2025-03-07T22:07:20.676Z"
   },
   {
    "duration": 7,
    "start_time": "2025-03-07T22:07:20.717Z"
   },
   {
    "duration": 5,
    "start_time": "2025-03-07T22:07:20.727Z"
   },
   {
    "duration": 182,
    "start_time": "2025-03-07T22:07:20.734Z"
   },
   {
    "duration": 5,
    "start_time": "2025-03-07T22:07:20.918Z"
   },
   {
    "duration": 4,
    "start_time": "2025-03-07T22:07:20.925Z"
   },
   {
    "duration": 81,
    "start_time": "2025-03-07T22:07:20.931Z"
   },
   {
    "duration": 13,
    "start_time": "2025-03-07T22:07:21.014Z"
   },
   {
    "duration": 3,
    "start_time": "2025-03-07T22:07:21.028Z"
   },
   {
    "duration": 5,
    "start_time": "2025-03-07T22:07:21.033Z"
   },
   {
    "duration": 419,
    "start_time": "2025-03-07T22:07:21.040Z"
   },
   {
    "duration": 4,
    "start_time": "2025-03-07T22:07:21.460Z"
   },
   {
    "duration": 4,
    "start_time": "2025-03-07T22:07:21.466Z"
   },
   {
    "duration": 3,
    "start_time": "2025-03-07T22:07:21.472Z"
   },
   {
    "duration": 4,
    "start_time": "2025-03-07T23:06:17.612Z"
   },
   {
    "duration": 227,
    "start_time": "2025-03-07T23:06:18.430Z"
   },
   {
    "duration": 3,
    "start_time": "2025-03-07T23:06:19.150Z"
   },
   {
    "duration": 4,
    "start_time": "2025-03-07T23:07:32.604Z"
   },
   {
    "duration": 24,
    "start_time": "2025-03-07T23:07:34.302Z"
   },
   {
    "duration": 7,
    "start_time": "2025-03-07T23:07:49.517Z"
   },
   {
    "duration": 22,
    "start_time": "2025-03-07T23:07:50.516Z"
   },
   {
    "duration": 4,
    "start_time": "2025-03-07T23:08:18.220Z"
   },
   {
    "duration": 548,
    "start_time": "2025-03-07T23:08:18.947Z"
   },
   {
    "duration": 3,
    "start_time": "2025-03-07T23:08:22.228Z"
   },
   {
    "duration": 4,
    "start_time": "2025-03-07T23:08:23.931Z"
   },
   {
    "duration": 4,
    "start_time": "2025-03-07T23:08:24.965Z"
   },
   {
    "duration": 7,
    "start_time": "2025-03-07T23:09:37.177Z"
   },
   {
    "duration": 7106,
    "start_time": "2025-03-07T23:09:38.169Z"
   },
   {
    "duration": 3,
    "start_time": "2025-03-07T23:09:45.278Z"
   },
   {
    "duration": 3,
    "start_time": "2025-03-07T23:09:45.283Z"
   },
   {
    "duration": 3,
    "start_time": "2025-03-07T23:09:45.288Z"
   },
   {
    "duration": 4,
    "start_time": "2025-03-07T23:41:36.638Z"
   },
   {
    "duration": 4,
    "start_time": "2025-03-08T00:03:03.542Z"
   },
   {
    "duration": 1026,
    "start_time": "2025-03-08T00:03:04.446Z"
   },
   {
    "duration": 0,
    "start_time": "2025-03-08T00:03:05.474Z"
   },
   {
    "duration": 780,
    "start_time": "2025-03-08T00:04:51.340Z"
   },
   {
    "duration": 225,
    "start_time": "2025-03-08T00:04:52.122Z"
   },
   {
    "duration": 12,
    "start_time": "2025-03-08T00:04:52.349Z"
   },
   {
    "duration": 51,
    "start_time": "2025-03-08T00:04:52.362Z"
   },
   {
    "duration": 7,
    "start_time": "2025-03-08T00:04:52.416Z"
   },
   {
    "duration": 8,
    "start_time": "2025-03-08T00:04:52.425Z"
   },
   {
    "duration": 11,
    "start_time": "2025-03-08T00:04:52.434Z"
   },
   {
    "duration": 34,
    "start_time": "2025-03-08T00:04:52.446Z"
   },
   {
    "duration": 33,
    "start_time": "2025-03-08T00:04:52.482Z"
   },
   {
    "duration": 7,
    "start_time": "2025-03-08T00:04:52.517Z"
   },
   {
    "duration": 11,
    "start_time": "2025-03-08T00:04:52.525Z"
   },
   {
    "duration": 33,
    "start_time": "2025-03-08T00:04:52.538Z"
   },
   {
    "duration": 36,
    "start_time": "2025-03-08T00:04:52.573Z"
   },
   {
    "duration": 7,
    "start_time": "2025-03-08T00:04:52.612Z"
   },
   {
    "duration": 4,
    "start_time": "2025-03-08T00:04:52.621Z"
   },
   {
    "duration": 184,
    "start_time": "2025-03-08T00:04:52.627Z"
   },
   {
    "duration": 3,
    "start_time": "2025-03-08T00:04:52.813Z"
   },
   {
    "duration": 4,
    "start_time": "2025-03-08T00:04:52.818Z"
   },
   {
    "duration": 3,
    "start_time": "2025-03-08T00:04:52.823Z"
   },
   {
    "duration": 84,
    "start_time": "2025-03-08T00:04:52.828Z"
   },
   {
    "duration": 3,
    "start_time": "2025-03-08T00:04:52.914Z"
   },
   {
    "duration": 4,
    "start_time": "2025-03-08T00:04:52.918Z"
   },
   {
    "duration": 1460,
    "start_time": "2025-03-08T00:04:52.924Z"
   },
   {
    "duration": 4,
    "start_time": "2025-03-08T00:04:54.385Z"
   },
   {
    "duration": 19,
    "start_time": "2025-03-08T00:04:54.391Z"
   },
   {
    "duration": 5,
    "start_time": "2025-03-08T00:04:54.411Z"
   },
   {
    "duration": 758,
    "start_time": "2025-03-08T01:14:22.359Z"
   },
   {
    "duration": 227,
    "start_time": "2025-03-08T01:14:23.119Z"
   },
   {
    "duration": 12,
    "start_time": "2025-03-08T01:14:23.348Z"
   },
   {
    "duration": 48,
    "start_time": "2025-03-08T01:14:23.362Z"
   },
   {
    "duration": 8,
    "start_time": "2025-03-08T01:14:23.413Z"
   },
   {
    "duration": 9,
    "start_time": "2025-03-08T01:14:23.423Z"
   },
   {
    "duration": 10,
    "start_time": "2025-03-08T01:14:23.433Z"
   },
   {
    "duration": 31,
    "start_time": "2025-03-08T01:14:23.445Z"
   },
   {
    "duration": 37,
    "start_time": "2025-03-08T01:14:23.477Z"
   },
   {
    "duration": 7,
    "start_time": "2025-03-08T01:14:23.516Z"
   },
   {
    "duration": 10,
    "start_time": "2025-03-08T01:14:23.525Z"
   },
   {
    "duration": 33,
    "start_time": "2025-03-08T01:14:23.536Z"
   },
   {
    "duration": 8,
    "start_time": "2025-03-08T01:14:23.571Z"
   },
   {
    "duration": 7,
    "start_time": "2025-03-08T01:14:23.610Z"
   },
   {
    "duration": 5,
    "start_time": "2025-03-08T01:14:23.619Z"
   },
   {
    "duration": 185,
    "start_time": "2025-03-08T01:14:23.626Z"
   },
   {
    "duration": 3,
    "start_time": "2025-03-08T01:14:23.813Z"
   },
   {
    "duration": 4,
    "start_time": "2025-03-08T01:14:23.818Z"
   },
   {
    "duration": 4,
    "start_time": "2025-03-08T01:14:23.824Z"
   },
   {
    "duration": 82,
    "start_time": "2025-03-08T01:14:23.830Z"
   },
   {
    "duration": 3,
    "start_time": "2025-03-08T01:14:23.913Z"
   },
   {
    "duration": 5,
    "start_time": "2025-03-08T01:14:23.918Z"
   },
   {
    "duration": 1477,
    "start_time": "2025-03-08T01:14:23.925Z"
   },
   {
    "duration": 5,
    "start_time": "2025-03-08T01:14:25.404Z"
   },
   {
    "duration": 4,
    "start_time": "2025-03-08T01:14:25.411Z"
   },
   {
    "duration": 4,
    "start_time": "2025-03-08T01:14:25.417Z"
   },
   {
    "duration": 3,
    "start_time": "2025-03-08T02:12:45.957Z"
   },
   {
    "duration": 741,
    "start_time": "2025-03-08T02:12:47.023Z"
   },
   {
    "duration": 4,
    "start_time": "2025-03-08T02:12:58.317Z"
   },
   {
    "duration": 1432,
    "start_time": "2025-03-08T02:12:58.991Z"
   },
   {
    "duration": 3,
    "start_time": "2025-03-08T02:13:00.425Z"
   },
   {
    "duration": 3,
    "start_time": "2025-03-08T02:13:00.881Z"
   },
   {
    "duration": 3,
    "start_time": "2025-03-08T02:13:01.548Z"
   },
   {
    "duration": 806,
    "start_time": "2025-03-08T14:26:15.344Z"
   },
   {
    "duration": 293,
    "start_time": "2025-03-08T14:26:16.152Z"
   },
   {
    "duration": 13,
    "start_time": "2025-03-08T14:26:16.446Z"
   },
   {
    "duration": 33,
    "start_time": "2025-03-08T14:26:16.460Z"
   },
   {
    "duration": 7,
    "start_time": "2025-03-08T14:26:16.496Z"
   },
   {
    "duration": 27,
    "start_time": "2025-03-08T14:26:16.505Z"
   },
   {
    "duration": 11,
    "start_time": "2025-03-08T14:26:16.534Z"
   },
   {
    "duration": 30,
    "start_time": "2025-03-08T14:26:16.546Z"
   },
   {
    "duration": 8,
    "start_time": "2025-03-08T14:26:16.577Z"
   },
   {
    "duration": 6,
    "start_time": "2025-03-08T14:26:16.587Z"
   },
   {
    "duration": 44,
    "start_time": "2025-03-08T14:26:16.595Z"
   },
   {
    "duration": 32,
    "start_time": "2025-03-08T14:26:16.640Z"
   },
   {
    "duration": 8,
    "start_time": "2025-03-08T14:26:16.674Z"
   },
   {
    "duration": 7,
    "start_time": "2025-03-08T14:26:16.686Z"
   },
   {
    "duration": 5,
    "start_time": "2025-03-08T14:26:16.694Z"
   },
   {
    "duration": 373,
    "start_time": "2025-03-08T14:26:16.700Z"
   },
   {
    "duration": 0,
    "start_time": "2025-03-08T14:26:17.075Z"
   },
   {
    "duration": 0,
    "start_time": "2025-03-08T14:26:17.077Z"
   },
   {
    "duration": 0,
    "start_time": "2025-03-08T14:26:17.078Z"
   },
   {
    "duration": 0,
    "start_time": "2025-03-08T14:26:17.080Z"
   },
   {
    "duration": 0,
    "start_time": "2025-03-08T14:26:17.081Z"
   },
   {
    "duration": 0,
    "start_time": "2025-03-08T14:26:17.083Z"
   },
   {
    "duration": 0,
    "start_time": "2025-03-08T14:26:17.084Z"
   },
   {
    "duration": 0,
    "start_time": "2025-03-08T14:26:17.085Z"
   },
   {
    "duration": 0,
    "start_time": "2025-03-08T14:26:17.087Z"
   },
   {
    "duration": 0,
    "start_time": "2025-03-08T14:26:17.088Z"
   },
   {
    "duration": 14,
    "start_time": "2025-03-08T14:26:42.162Z"
   },
   {
    "duration": 14,
    "start_time": "2025-03-08T14:26:43.268Z"
   },
   {
    "duration": 3,
    "start_time": "2025-03-08T14:26:43.807Z"
   },
   {
    "duration": 13,
    "start_time": "2025-03-08T14:26:43.962Z"
   },
   {
    "duration": 15,
    "start_time": "2025-03-08T14:26:44.130Z"
   },
   {
    "duration": 4,
    "start_time": "2025-03-08T14:26:44.699Z"
   },
   {
    "duration": 13,
    "start_time": "2025-03-08T14:26:44.876Z"
   },
   {
    "duration": 13,
    "start_time": "2025-03-08T14:26:45.061Z"
   },
   {
    "duration": 14,
    "start_time": "2025-03-08T14:26:45.231Z"
   },
   {
    "duration": 14,
    "start_time": "2025-03-08T14:26:45.410Z"
   },
   {
    "duration": 5,
    "start_time": "2025-03-08T14:27:47.108Z"
   },
   {
    "duration": 756,
    "start_time": "2025-03-08T15:52:23.906Z"
   },
   {
    "duration": 285,
    "start_time": "2025-03-08T15:52:24.664Z"
   },
   {
    "duration": 14,
    "start_time": "2025-03-08T15:52:24.951Z"
   },
   {
    "duration": 33,
    "start_time": "2025-03-08T15:52:24.967Z"
   },
   {
    "duration": 8,
    "start_time": "2025-03-08T15:52:25.003Z"
   },
   {
    "duration": 8,
    "start_time": "2025-03-08T15:52:25.013Z"
   },
   {
    "duration": 11,
    "start_time": "2025-03-08T15:52:25.043Z"
   },
   {
    "duration": 30,
    "start_time": "2025-03-08T15:52:25.055Z"
   },
   {
    "duration": 8,
    "start_time": "2025-03-08T15:52:25.087Z"
   },
   {
    "duration": 7,
    "start_time": "2025-03-08T15:52:25.097Z"
   },
   {
    "duration": 39,
    "start_time": "2025-03-08T15:52:25.105Z"
   },
   {
    "duration": 32,
    "start_time": "2025-03-08T15:52:25.145Z"
   },
   {
    "duration": 11,
    "start_time": "2025-03-08T15:52:25.183Z"
   },
   {
    "duration": 6,
    "start_time": "2025-03-08T15:52:25.199Z"
   },
   {
    "duration": 4,
    "start_time": "2025-03-08T15:52:25.207Z"
   },
   {
    "duration": 365,
    "start_time": "2025-03-08T15:52:25.212Z"
   },
   {
    "duration": 0,
    "start_time": "2025-03-08T15:52:25.579Z"
   },
   {
    "duration": 0,
    "start_time": "2025-03-08T15:52:25.580Z"
   },
   {
    "duration": 0,
    "start_time": "2025-03-08T15:52:25.581Z"
   },
   {
    "duration": 0,
    "start_time": "2025-03-08T15:52:25.582Z"
   },
   {
    "duration": 0,
    "start_time": "2025-03-08T15:52:25.583Z"
   },
   {
    "duration": 0,
    "start_time": "2025-03-08T15:52:25.584Z"
   },
   {
    "duration": 0,
    "start_time": "2025-03-08T15:52:25.585Z"
   },
   {
    "duration": 0,
    "start_time": "2025-03-08T15:52:25.586Z"
   },
   {
    "duration": 0,
    "start_time": "2025-03-08T15:52:25.587Z"
   },
   {
    "duration": 0,
    "start_time": "2025-03-08T15:52:25.588Z"
   },
   {
    "duration": 4,
    "start_time": "2025-03-08T15:53:15.383Z"
   },
   {
    "duration": 66,
    "start_time": "2025-03-08T15:53:16.898Z"
   },
   {
    "duration": 3,
    "start_time": "2025-03-08T15:53:18.740Z"
   },
   {
    "duration": 4,
    "start_time": "2025-03-08T15:53:28.455Z"
   },
   {
    "duration": 3,
    "start_time": "2025-03-08T15:53:37.600Z"
   },
   {
    "duration": 13,
    "start_time": "2025-03-08T15:53:38.582Z"
   },
   {
    "duration": 3,
    "start_time": "2025-03-08T15:53:39.054Z"
   },
   {
    "duration": 5,
    "start_time": "2025-03-08T15:53:40.463Z"
   },
   {
    "duration": 1333,
    "start_time": "2025-03-08T15:53:40.956Z"
   },
   {
    "duration": 755,
    "start_time": "2025-03-08T15:53:49.589Z"
   },
   {
    "duration": 228,
    "start_time": "2025-03-08T15:53:50.347Z"
   },
   {
    "duration": 13,
    "start_time": "2025-03-08T15:53:50.577Z"
   },
   {
    "duration": 33,
    "start_time": "2025-03-08T15:53:50.591Z"
   },
   {
    "duration": 8,
    "start_time": "2025-03-08T15:53:50.642Z"
   },
   {
    "duration": 10,
    "start_time": "2025-03-08T15:53:50.652Z"
   },
   {
    "duration": 10,
    "start_time": "2025-03-08T15:53:50.664Z"
   },
   {
    "duration": 30,
    "start_time": "2025-03-08T15:53:50.676Z"
   },
   {
    "duration": 38,
    "start_time": "2025-03-08T15:53:50.707Z"
   },
   {
    "duration": 10,
    "start_time": "2025-03-08T15:53:50.746Z"
   },
   {
    "duration": 10,
    "start_time": "2025-03-08T15:53:50.758Z"
   },
   {
    "duration": 32,
    "start_time": "2025-03-08T15:53:50.770Z"
   },
   {
    "duration": 8,
    "start_time": "2025-03-08T15:53:50.804Z"
   },
   {
    "duration": 33,
    "start_time": "2025-03-08T15:53:50.815Z"
   },
   {
    "duration": 4,
    "start_time": "2025-03-08T15:53:50.849Z"
   },
   {
    "duration": 115,
    "start_time": "2025-03-08T15:53:50.854Z"
   },
   {
    "duration": 7,
    "start_time": "2025-03-08T15:53:51.044Z"
   },
   {
    "duration": 5,
    "start_time": "2025-03-08T15:53:51.053Z"
   },
   {
    "duration": 4,
    "start_time": "2025-03-08T15:53:51.062Z"
   },
   {
    "duration": 76,
    "start_time": "2025-03-08T15:53:51.068Z"
   },
   {
    "duration": 4,
    "start_time": "2025-03-08T15:53:51.145Z"
   },
   {
    "duration": 5,
    "start_time": "2025-03-08T15:53:51.151Z"
   },
   {
    "duration": 1250,
    "start_time": "2025-03-08T15:53:51.158Z"
   },
   {
    "duration": 3,
    "start_time": "2025-03-08T15:53:52.410Z"
   },
   {
    "duration": 4,
    "start_time": "2025-03-08T15:53:52.414Z"
   },
   {
    "duration": 23,
    "start_time": "2025-03-08T15:53:52.420Z"
   },
   {
    "duration": 10,
    "start_time": "2025-03-08T16:58:47.755Z"
   },
   {
    "duration": 866,
    "start_time": "2025-03-08T17:01:14.345Z"
   },
   {
    "duration": 368,
    "start_time": "2025-03-08T17:01:15.214Z"
   },
   {
    "duration": 13,
    "start_time": "2025-03-08T17:01:15.586Z"
   },
   {
    "duration": 44,
    "start_time": "2025-03-08T17:01:15.601Z"
   },
   {
    "duration": 11,
    "start_time": "2025-03-08T17:01:15.648Z"
   },
   {
    "duration": 8,
    "start_time": "2025-03-08T17:01:15.661Z"
   },
   {
    "duration": 10,
    "start_time": "2025-03-08T17:01:15.671Z"
   },
   {
    "duration": 70,
    "start_time": "2025-03-08T17:01:15.683Z"
   },
   {
    "duration": 11,
    "start_time": "2025-03-08T17:01:15.755Z"
   },
   {
    "duration": 9,
    "start_time": "2025-03-08T17:01:15.768Z"
   },
   {
    "duration": 15,
    "start_time": "2025-03-08T17:01:15.779Z"
   },
   {
    "duration": 52,
    "start_time": "2025-03-08T17:01:15.823Z"
   },
   {
    "duration": 7,
    "start_time": "2025-03-08T17:01:15.877Z"
   },
   {
    "duration": 8,
    "start_time": "2025-03-08T17:01:15.889Z"
   },
   {
    "duration": 27,
    "start_time": "2025-03-08T17:01:15.899Z"
   },
   {
    "duration": 135,
    "start_time": "2025-03-08T17:01:15.927Z"
   },
   {
    "duration": 3,
    "start_time": "2025-03-08T17:01:16.125Z"
   },
   {
    "duration": 3,
    "start_time": "2025-03-08T17:01:16.130Z"
   },
   {
    "duration": 5,
    "start_time": "2025-03-08T17:01:16.135Z"
   },
   {
    "duration": 25,
    "start_time": "2025-03-08T17:01:16.143Z"
   },
   {
    "duration": 3,
    "start_time": "2025-03-08T17:01:16.171Z"
   },
   {
    "duration": 64,
    "start_time": "2025-03-08T17:01:16.175Z"
   },
   {
    "duration": 1453,
    "start_time": "2025-03-08T17:01:16.249Z"
   },
   {
    "duration": 3,
    "start_time": "2025-03-08T17:01:17.704Z"
   },
   {
    "duration": 4,
    "start_time": "2025-03-08T17:01:17.709Z"
   },
   {
    "duration": 11,
    "start_time": "2025-03-08T17:01:17.714Z"
   },
   {
    "duration": 3,
    "start_time": "2025-03-08T17:13:18.249Z"
   },
   {
    "duration": 259,
    "start_time": "2025-03-08T17:13:22.354Z"
   },
   {
    "duration": 13,
    "start_time": "2025-03-08T17:13:36.857Z"
   },
   {
    "duration": 822,
    "start_time": "2025-03-08T17:14:19.565Z"
   },
   {
    "duration": 390,
    "start_time": "2025-03-08T17:14:20.390Z"
   },
   {
    "duration": 14,
    "start_time": "2025-03-08T17:14:20.782Z"
   },
   {
    "duration": 50,
    "start_time": "2025-03-08T17:14:20.797Z"
   },
   {
    "duration": 13,
    "start_time": "2025-03-08T17:14:20.851Z"
   },
   {
    "duration": 9,
    "start_time": "2025-03-08T17:14:20.868Z"
   },
   {
    "duration": 14,
    "start_time": "2025-03-08T17:14:20.879Z"
   },
   {
    "duration": 42,
    "start_time": "2025-03-08T17:14:20.895Z"
   },
   {
    "duration": 11,
    "start_time": "2025-03-08T17:14:20.944Z"
   },
   {
    "duration": 18,
    "start_time": "2025-03-08T17:14:20.957Z"
   },
   {
    "duration": 11,
    "start_time": "2025-03-08T17:14:20.977Z"
   },
   {
    "duration": 79,
    "start_time": "2025-03-08T17:14:20.990Z"
   },
   {
    "duration": 10,
    "start_time": "2025-03-08T17:14:21.071Z"
   },
   {
    "duration": 11,
    "start_time": "2025-03-08T17:14:21.086Z"
   },
   {
    "duration": 6,
    "start_time": "2025-03-08T17:14:21.099Z"
   },
   {
    "duration": 246,
    "start_time": "2025-03-08T17:14:21.107Z"
   },
   {
    "duration": 13,
    "start_time": "2025-03-08T17:14:21.356Z"
   },
   {
    "duration": 6,
    "start_time": "2025-03-08T17:14:21.374Z"
   },
   {
    "duration": 53,
    "start_time": "2025-03-08T17:14:21.383Z"
   },
   {
    "duration": 273,
    "start_time": "2025-03-08T17:14:21.444Z"
   },
   {
    "duration": 0,
    "start_time": "2025-03-08T17:14:21.719Z"
   },
   {
    "duration": 0,
    "start_time": "2025-03-08T17:14:21.722Z"
   },
   {
    "duration": 0,
    "start_time": "2025-03-08T17:14:21.723Z"
   },
   {
    "duration": 0,
    "start_time": "2025-03-08T17:14:21.732Z"
   },
   {
    "duration": 1,
    "start_time": "2025-03-08T17:14:21.732Z"
   },
   {
    "duration": 0,
    "start_time": "2025-03-08T17:14:21.733Z"
   },
   {
    "duration": 4,
    "start_time": "2025-03-08T17:15:44.418Z"
   },
   {
    "duration": 14,
    "start_time": "2025-03-08T17:15:46.306Z"
   },
   {
    "duration": 8,
    "start_time": "2025-03-08T17:15:50.340Z"
   },
   {
    "duration": 14,
    "start_time": "2025-03-08T17:15:59.321Z"
   },
   {
    "duration": 1656,
    "start_time": "2025-03-08T17:16:00.116Z"
   },
   {
    "duration": 3,
    "start_time": "2025-03-08T17:16:01.917Z"
   },
   {
    "duration": 8,
    "start_time": "2025-03-08T17:16:07.511Z"
   },
   {
    "duration": 20,
    "start_time": "2025-03-08T17:16:08.431Z"
   },
   {
    "duration": 879,
    "start_time": "2025-03-08T17:16:29.680Z"
   },
   {
    "duration": 335,
    "start_time": "2025-03-08T17:16:30.561Z"
   },
   {
    "duration": 18,
    "start_time": "2025-03-08T17:16:30.898Z"
   },
   {
    "duration": 44,
    "start_time": "2025-03-08T17:16:30.927Z"
   },
   {
    "duration": 9,
    "start_time": "2025-03-08T17:16:30.974Z"
   },
   {
    "duration": 11,
    "start_time": "2025-03-08T17:16:30.986Z"
   },
   {
    "duration": 46,
    "start_time": "2025-03-08T17:16:31.001Z"
   },
   {
    "duration": 44,
    "start_time": "2025-03-08T17:16:31.060Z"
   },
   {
    "duration": 8,
    "start_time": "2025-03-08T17:16:31.106Z"
   },
   {
    "duration": 8,
    "start_time": "2025-03-08T17:16:31.116Z"
   },
   {
    "duration": 26,
    "start_time": "2025-03-08T17:16:31.125Z"
   },
   {
    "duration": 44,
    "start_time": "2025-03-08T17:16:31.153Z"
   },
   {
    "duration": 9,
    "start_time": "2025-03-08T17:16:31.200Z"
   },
   {
    "duration": 42,
    "start_time": "2025-03-08T17:16:31.213Z"
   },
   {
    "duration": 7,
    "start_time": "2025-03-08T17:16:31.257Z"
   },
   {
    "duration": 176,
    "start_time": "2025-03-08T17:16:31.267Z"
   },
   {
    "duration": 8,
    "start_time": "2025-03-08T17:16:31.451Z"
   },
   {
    "duration": 18,
    "start_time": "2025-03-08T17:16:31.461Z"
   },
   {
    "duration": 49,
    "start_time": "2025-03-08T17:16:31.482Z"
   },
   {
    "duration": 22,
    "start_time": "2025-03-08T17:16:31.533Z"
   },
   {
    "duration": 8,
    "start_time": "2025-03-08T17:16:31.557Z"
   },
   {
    "duration": 6,
    "start_time": "2025-03-08T17:16:31.567Z"
   },
   {
    "duration": 1673,
    "start_time": "2025-03-08T17:16:31.575Z"
   },
   {
    "duration": 11,
    "start_time": "2025-03-08T17:16:33.256Z"
   },
   {
    "duration": 7,
    "start_time": "2025-03-08T17:16:33.273Z"
   },
   {
    "duration": 4,
    "start_time": "2025-03-08T17:16:33.283Z"
   },
   {
    "duration": 779,
    "start_time": "2025-03-09T13:48:33.566Z"
   },
   {
    "duration": 296,
    "start_time": "2025-03-09T13:48:34.348Z"
   },
   {
    "duration": 13,
    "start_time": "2025-03-09T13:48:34.646Z"
   },
   {
    "duration": 45,
    "start_time": "2025-03-09T13:48:34.661Z"
   },
   {
    "duration": 10,
    "start_time": "2025-03-09T13:48:34.709Z"
   },
   {
    "duration": 9,
    "start_time": "2025-03-09T13:48:34.722Z"
   },
   {
    "duration": 12,
    "start_time": "2025-03-09T13:48:34.732Z"
   },
   {
    "duration": 31,
    "start_time": "2025-03-09T13:48:34.746Z"
   },
   {
    "duration": 32,
    "start_time": "2025-03-09T13:48:34.779Z"
   },
   {
    "duration": 7,
    "start_time": "2025-03-09T13:48:34.813Z"
   },
   {
    "duration": 10,
    "start_time": "2025-03-09T13:48:34.822Z"
   },
   {
    "duration": 32,
    "start_time": "2025-03-09T13:48:34.834Z"
   },
   {
    "duration": 38,
    "start_time": "2025-03-09T13:48:34.868Z"
   },
   {
    "duration": 7,
    "start_time": "2025-03-09T13:48:34.909Z"
   },
   {
    "duration": 5,
    "start_time": "2025-03-09T13:48:34.917Z"
   },
   {
    "duration": 183,
    "start_time": "2025-03-09T13:48:34.924Z"
   },
   {
    "duration": 4,
    "start_time": "2025-03-09T13:48:35.111Z"
   },
   {
    "duration": 3,
    "start_time": "2025-03-09T13:48:35.118Z"
   },
   {
    "duration": 3,
    "start_time": "2025-03-09T13:48:35.122Z"
   },
   {
    "duration": 84,
    "start_time": "2025-03-09T13:48:35.127Z"
   },
   {
    "duration": 3,
    "start_time": "2025-03-09T13:48:35.213Z"
   },
   {
    "duration": 4,
    "start_time": "2025-03-09T13:48:35.218Z"
   },
   {
    "duration": 1400,
    "start_time": "2025-03-09T13:48:35.223Z"
   },
   {
    "duration": 3,
    "start_time": "2025-03-09T13:48:36.625Z"
   },
   {
    "duration": 4,
    "start_time": "2025-03-09T13:48:36.629Z"
   },
   {
    "duration": 5,
    "start_time": "2025-03-09T13:48:36.635Z"
   }
  ],
  "kernelspec": {
   "display_name": "Python 3",
   "language": "python",
   "name": "python3"
  },
  "language_info": {
   "codemirror_mode": {
    "name": "ipython",
    "version": 3
   },
   "file_extension": ".py",
   "mimetype": "text/x-python",
   "name": "python",
   "nbconvert_exporter": "python",
   "pygments_lexer": "ipython3",
   "version": "3.12.6"
  },
  "toc": {
   "base_numbering": 1,
   "nav_menu": {},
   "number_sections": true,
   "sideBar": true,
   "skip_h1_title": true,
   "title_cell": "Table of Contents",
   "title_sidebar": "Contents",
   "toc_cell": false,
   "toc_position": {},
   "toc_section_display": true,
   "toc_window_display": false
  }
 },
 "nbformat": 4,
 "nbformat_minor": 2
}
